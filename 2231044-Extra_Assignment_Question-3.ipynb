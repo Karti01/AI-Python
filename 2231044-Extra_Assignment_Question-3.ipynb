{
 "cells": [
  {
   "cell_type": "code",
   "execution_count": 17,
   "id": "9e049ad5-eccf-4fd4-bad6-902ea9596dbe",
   "metadata": {},
   "outputs": [
    {
     "name": "stdin",
     "output_type": "stream",
     "text": [
      "Enter the number 10\n"
     ]
    }
   ],
   "source": [
    "# print 'CORRECT' if i == 10\n",
    "i=int(input(\"Enter the number\"))"
   ]
  },
  {
   "cell_type": "code",
   "execution_count": 19,
   "id": "7df55219-8614-49cc-81d0-7528330f7f03",
   "metadata": {},
   "outputs": [
    {
     "name": "stdout",
     "output_type": "stream",
     "text": [
      "Correct\n"
     ]
    }
   ],
   "source": [
    "if(i==10):\n",
    "    print(\"Correct\")\n",
    "else:\n",
    "    print(\"incorrect\")"
   ]
  },
  {
   "cell_type": "code",
   "execution_count": 35,
   "id": "16b4957d-d96d-4775-a43b-52d87526058c",
   "metadata": {},
   "outputs": [
    {
     "name": "stdin",
     "output_type": "stream",
     "text": [
      "Enter the password Hope@123\n"
     ]
    }
   ],
   "source": [
    "# Check the password, using if and else\n",
    "password=(input(\"Enter the password\"))"
   ]
  },
  {
   "cell_type": "code",
   "execution_count": 37,
   "id": "66703fa6-210f-4243-8485-80652f7826e6",
   "metadata": {},
   "outputs": [
    {
     "name": "stdout",
     "output_type": "stream",
     "text": [
      "Your password is correct\n"
     ]
    }
   ],
   "source": [
    "if(password==\"Hope@123\"):\n",
    "    print(\"Your password is correct\")\n",
    "else:\n",
    "    print(\"Your password is incorrect\")\n"
   ]
  },
  {
   "cell_type": "code",
   "execution_count": 39,
   "id": "2fab21e1-768b-44fa-ab7b-68451dc49d05",
   "metadata": {},
   "outputs": [
    {
     "name": "stdin",
     "output_type": "stream",
     "text": [
      "Enter the age 20\n"
     ]
    }
   ],
   "source": [
    "#Catagory the people by their age like children, adult, citizen, senior citizen...\n",
    "age=int(input(\"Enter the age\"))"
   ]
  },
  {
   "cell_type": "code",
   "execution_count": 44,
   "id": "73472399-6bc1-4dab-be36-195b4aad78d0",
   "metadata": {},
   "outputs": [
    {
     "name": "stdout",
     "output_type": "stream",
     "text": [
      "He/she is an adult\n"
     ]
    }
   ],
   "source": [
    "if(age<18):\n",
    "    print(\"He/she is an children\")\n",
    "elif(age<40):\n",
    "    print(\"He/she is an adult\")\n",
    "elif(age<50):\n",
    "    print(\"He/she is an Citizen\")\n",
    "else:\n",
    "    print(\"He/she is an Senior Citizen\")"
   ]
  },
  {
   "cell_type": "code",
   "execution_count": 56,
   "id": "92c5d98d-d93b-4fbe-bf84-584809d6b05d",
   "metadata": {},
   "outputs": [
    {
     "name": "stdin",
     "output_type": "stream",
     "text": [
      "Enter any number:  20\n"
     ]
    },
    {
     "name": "stdout",
     "output_type": "stream",
     "text": [
      "The number is positive.\n"
     ]
    }
   ],
   "source": [
    "# Find whether given number is positive or negative\n",
    "number = float(input(\"Enter any number: \"))\n",
    "if (number > 0):\n",
    "    print(\"The number is positive.\")\n",
    "elif (number < 0):\n",
    "    print(\"The number is negative.\")"
   ]
  },
  {
   "cell_type": "code",
   "execution_count": 70,
   "id": "2586e984-9882-4f46-b26a-bda6764b62f6",
   "metadata": {},
   "outputs": [
    {
     "name": "stdin",
     "output_type": "stream",
     "text": [
      "Enter a number to check:  6\n"
     ]
    },
    {
     "name": "stdout",
     "output_type": "stream",
     "text": [
      "No it is not divisible by 5\n"
     ]
    }
   ],
   "source": [
    "# Check whether the given number is divisible by 5\n",
    "number = float(input(\"Enter a number to check: \"))\n",
    "if (number%5==0):\n",
    "    print(\"yes it is divisible by 5\")\n",
    "else:\n",
    "    print(\"No it is not divisible by 5\")\n"
   ]
  },
  {
   "cell_type": "code",
   "execution_count": null,
   "id": "b2fd33c3-7806-48e9-b40c-e5b7418a174d",
   "metadata": {},
   "outputs": [],
   "source": []
  }
 ],
 "metadata": {
  "kernelspec": {
   "display_name": "Python [conda env:base] *",
   "language": "python",
   "name": "conda-base-py"
  },
  "language_info": {
   "codemirror_mode": {
    "name": "ipython",
    "version": 3
   },
   "file_extension": ".py",
   "mimetype": "text/x-python",
   "name": "python",
   "nbconvert_exporter": "python",
   "pygments_lexer": "ipython3",
   "version": "3.12.7"
  }
 },
 "nbformat": 4,
 "nbformat_minor": 5
}
