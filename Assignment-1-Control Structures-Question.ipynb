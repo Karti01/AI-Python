{
 "cells": [
  {
   "cell_type": "code",
   "execution_count": 1,
   "id": "de4601f7-d243-46fa-91a3-0bbfd40f55e5",
   "metadata": {},
   "outputs": [
    {
     "name": "stdout",
     "output_type": "stream",
     "text": [
      "Welcome to the assignment-1\n"
     ]
    }
   ],
   "source": [
    "print(\"Welcome to the assignment-1\")"
   ]
  },
  {
   "cell_type": "code",
   "execution_count": 15,
   "id": "0cfa43d8-b192-479e-b84d-2c3b80b79dd7",
   "metadata": {},
   "outputs": [
    {
     "name": "stdin",
     "output_type": "stream",
     "text": [
      "Enter the Num 1: 10\n"
     ]
    }
   ],
   "source": [
    "Num1=int(input(\"Enter the Num 1:\"))"
   ]
  },
  {
   "cell_type": "code",
   "execution_count": 19,
   "id": "829390a2-c84d-466a-9e72-bb8e54bbf2c5",
   "metadata": {},
   "outputs": [
    {
     "name": "stdin",
     "output_type": "stream",
     "text": [
      "Enter the Num 2: 30\n"
     ]
    }
   ],
   "source": [
    "Num2=int(input(\"Enter the Num 2:\"))"
   ]
  },
  {
   "cell_type": "code",
   "execution_count": 21,
   "id": "eb931198-fa8d-494f-b9fd-a31d1def40a2",
   "metadata": {},
   "outputs": [
    {
     "name": "stdout",
     "output_type": "stream",
     "text": [
      "40\n"
     ]
    }
   ],
   "source": [
    "add=Num1+Num2\n",
    "print(add)"
   ]
  },
  {
   "cell_type": "code",
   "execution_count": 37,
   "id": "5fcca2da-2d7f-43c9-b532-90a0fb2cf084",
   "metadata": {},
   "outputs": [
    {
     "name": "stdin",
     "output_type": "stream",
     "text": [
      "Enter the BMI Index: 30.5\n"
     ]
    }
   ],
   "source": [
    "BMI=float(input(\"Enter the BMI Index:\"))"
   ]
  },
  {
   "cell_type": "code",
   "execution_count": 39,
   "id": "fdcfdfcb-3f90-4832-aa0d-d8f3c7144b18",
   "metadata": {},
   "outputs": [
    {
     "name": "stdout",
     "output_type": "stream",
     "text": [
      "Obese\n"
     ]
    }
   ],
   "source": [
    "if(BMI<16.0):\n",
    "    print(\"Severely underweight\")\n",
    "elif(BMI<18.4):\n",
    "    print(\"Under weight\")\n",
    "elif(BMI<24.9):\n",
    "    print(\"Normal\")\n",
    "elif(BMI<29.9):\n",
    "    print(\"Over weight\")\n",
    "else:\n",
    "    print(\"Obese\")"
   ]
  },
  {
   "cell_type": "code",
   "execution_count": null,
   "id": "4c705d8f-adb2-424e-bf44-fc0a94ea0a4c",
   "metadata": {},
   "outputs": [],
   "source": []
  }
 ],
 "metadata": {
  "kernelspec": {
   "display_name": "Python [conda env:base] *",
   "language": "python",
   "name": "conda-base-py"
  },
  "language_info": {
   "codemirror_mode": {
    "name": "ipython",
    "version": 3
   },
   "file_extension": ".py",
   "mimetype": "text/x-python",
   "name": "python",
   "nbconvert_exporter": "python",
   "pygments_lexer": "ipython3",
   "version": "3.12.7"
  }
 },
 "nbformat": 4,
 "nbformat_minor": 5
}
