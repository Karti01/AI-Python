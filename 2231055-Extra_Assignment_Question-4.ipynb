{
 "cells": [
  {
   "cell_type": "code",
   "execution_count": 12,
   "id": "177ad9da-c173-41e2-8b8f-70f3ae216ca4",
   "metadata": {},
   "outputs": [],
   "source": [
    "#Create function, and list out the items in the list\n",
    "def Subfields():\n",
    "    print(\"Sub-fields in AI are:\")\n",
    "    list=[\"Machine Learning\", \"Neural Networks\", \"Vision\", \"Robotics\", \"Speech Processing\", \"Natural Language Processing\"]\n",
    "    for temp in list:\n",
    "        print(temp)\n",
    "    "
   ]
  },
  {
   "cell_type": "code",
   "execution_count": 14,
   "id": "d2a484d3-275e-46c3-8a21-9b8cbacb6159",
   "metadata": {},
   "outputs": [
    {
     "name": "stdout",
     "output_type": "stream",
     "text": [
      "Sub-fields in AI are:\n",
      "Machine Learning\n",
      "Neural Networks\n",
      "Vision\n",
      "Robotics\n",
      "Speech Processing\n",
      "Natural Language Processing\n"
     ]
    }
   ],
   "source": [
    "Subfields()"
   ]
  },
  {
   "cell_type": "code",
   "execution_count": 36,
   "id": "7428e645-c991-4c00-985c-ee752d652df4",
   "metadata": {},
   "outputs": [],
   "source": [
    "#OddEven\n",
    "def oddeven():\n",
    "    num=int(input(\"Enter the number\"))\n",
    "    if((num%2)==0):\n",
    "        print(num,\"is an Even number\")\n",
    "    else:\n",
    "        print(num, \"a odd number\")"
   ]
  },
  {
   "cell_type": "code",
   "execution_count": 38,
   "id": "7dc171e0-c643-4633-a6f7-6438251ac4a6",
   "metadata": {},
   "outputs": [
    {
     "name": "stdin",
     "output_type": "stream",
     "text": [
      "Enter the number 52452\n"
     ]
    },
    {
     "name": "stdout",
     "output_type": "stream",
     "text": [
      "52452 is an Even number\n"
     ]
    }
   ],
   "source": [
    "oddeven()"
   ]
  },
  {
   "cell_type": "code",
   "execution_count": 60,
   "id": "689a1608-d9f3-4949-8eb6-9693bc322d3b",
   "metadata": {},
   "outputs": [],
   "source": [
    "#ElegiblityForMarriage\n",
    "def eligible():\n",
    "    gender=input(\"Your Gender:\")\n",
    "    age=int(input(\"Your Age:\"))\n",
    "    if(gender=='Male'):\n",
    "            if(age>=21):\n",
    "                print('ELIGIBLE')\n",
    "            else:\n",
    "                print('NOT ELIGIBLE')\n",
    "    if(gender=='Female'):\n",
    "            if(age>=18):\n",
    "                print('ELIGIBLE')\n",
    "            else:\n",
    "                print('NOT ELIGIBLE')"
   ]
  },
  {
   "cell_type": "code",
   "execution_count": 66,
   "id": "622a82fb-e894-48ad-807d-81cca73feb11",
   "metadata": {},
   "outputs": [
    {
     "name": "stdin",
     "output_type": "stream",
     "text": [
      "Your Gender: Female\n",
      "Your Age: 15\n"
     ]
    },
    {
     "name": "stdout",
     "output_type": "stream",
     "text": [
      "NOT ELIGIBLE\n"
     ]
    }
   ],
   "source": [
    "eligible()"
   ]
  },
  {
   "cell_type": "code",
   "execution_count": 11,
   "id": "29faad52-a5f3-4f54-bfeb-49a4b2a2c03b",
   "metadata": {},
   "outputs": [],
   "source": [
    "# calculate the percentage of your 10th mark\n",
    "def percentage():\n",
    "    mark1=int(input(\"Subject1= \"))\n",
    "    mark2=int(input(\"Subject2= \"))\n",
    "    mark3=int(input(\"Subject3= \"))\n",
    "    mark4=int(input(\"Subject4= \"))\n",
    "    mark5=int(input(\"Subject5= \"))\n",
    "    Total = mark1+mark2+mark3+mark4+mark5\n",
    "    print(\"Total : \",mark1+mark2+mark3+mark4+mark5)\n",
    "    Percent = (Total / 500) * 100\n",
    "    print(\"Percentage : \",Percent)"
   ]
  },
  {
   "cell_type": "code",
   "execution_count": 13,
   "id": "763165cd-06cf-49c0-b05d-83f8cbf44a33",
   "metadata": {},
   "outputs": [
    {
     "name": "stdin",
     "output_type": "stream",
     "text": [
      "Subject1=  98\n",
      "Subject2=  87\n",
      "Subject3=  95\n",
      "Subject4=  95\n",
      "Subject5=  93\n"
     ]
    },
    {
     "name": "stdout",
     "output_type": "stream",
     "text": [
      "Total :  468\n",
      "Percentage :  93.60000000000001\n"
     ]
    }
   ],
   "source": [
    "percentage()"
   ]
  },
  {
   "cell_type": "code",
   "execution_count": 31,
   "id": "f30f6631-50b0-4ce4-b7a1-beb2f76e4d12",
   "metadata": {},
   "outputs": [],
   "source": [
    "#print area and perimeter of triangle\n",
    "def triangle():\n",
    "    H=int(input(\"Height:\"))\n",
    "    B=int(input(\"Breadth:\"))\n",
    "    print(\"Area formula: (Height*Breadth)/2\")\n",
    "    print(\"Area of Triangle: \",(H*B)/2)\n",
    "    H1=int(input(\"Height1:\"))\n",
    "    H2=int(input(\"Height2:\"))\n",
    "    B=int(input(\"Breadth:\"))\n",
    "    print(\"Perimeter formula: Height1+Height2+Breadth\")\n",
    "    print(\"Perimeter of Triangle: \",H1+H2+B)"
   ]
  },
  {
   "cell_type": "code",
   "execution_count": 33,
   "id": "046eca6a-4bc7-4dea-9cf6-eb6d86f91094",
   "metadata": {},
   "outputs": [
    {
     "name": "stdin",
     "output_type": "stream",
     "text": [
      "Height: 32\n",
      "Breadth: 34\n"
     ]
    },
    {
     "name": "stdout",
     "output_type": "stream",
     "text": [
      "Area formula: (Height*Breadth)/2\n",
      "Area of Triangle:  544.0\n"
     ]
    },
    {
     "name": "stdin",
     "output_type": "stream",
     "text": [
      "Height1: 2\n",
      "Height2: 4\n",
      "Breadth: 4\n"
     ]
    },
    {
     "name": "stdout",
     "output_type": "stream",
     "text": [
      "Perimeter formula: Height1+Height2+Breadth\n",
      "Perimeter of Triangle:  10\n"
     ]
    }
   ],
   "source": [
    "triangle()"
   ]
  },
  {
   "cell_type": "code",
   "execution_count": null,
   "id": "c76b2c68-daf5-4909-bfe6-8ffc6962b46f",
   "metadata": {},
   "outputs": [],
   "source": []
  }
 ],
 "metadata": {
  "kernelspec": {
   "display_name": "Python [conda env:base] *",
   "language": "python",
   "name": "conda-base-py"
  },
  "language_info": {
   "codemirror_mode": {
    "name": "ipython",
    "version": 3
   },
   "file_extension": ".py",
   "mimetype": "text/x-python",
   "name": "python",
   "nbconvert_exporter": "python",
   "pygments_lexer": "ipython3",
   "version": "3.12.7"
  }
 },
 "nbformat": 4,
 "nbformat_minor": 5
}
