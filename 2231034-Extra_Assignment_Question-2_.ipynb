{
 "cells": [
  {
   "cell_type": "code",
   "execution_count": null,
   "id": "39959a45-f8c9-4101-818c-c64a3258718b",
   "metadata": {},
   "outputs": [],
   "source": [
    "# print 0 to 20 by using range\n",
    "num=0,20\n",
    "for num in range(0,20):\n",
    "    print(num)"
   ]
  },
  {
   "cell_type": "code",
   "execution_count": null,
   "id": "fece9057-6efa-49bc-8cc0-b81a407bb50d",
   "metadata": {},
   "outputs": [],
   "source": [
    "# print 0 to 20 by using range\n",
    "num=10,20\n",
    "for num in range(10,20):\n",
    "    print(num)"
   ]
  },
  {
   "cell_type": "code",
   "execution_count": null,
   "id": "3ed1d90d-e1df-4cec-a7e9-633363490c98",
   "metadata": {},
   "outputs": [],
   "source": [
    "# Print number of items in the list by using 'len'\n",
    "list2 = (10, 20, 14, 55, 43, 87, 76)\n",
    "length = len(list2)\n",
    "print(\"Number of item in the List2:\",length)"
   ]
  },
  {
   "cell_type": "code",
   "execution_count": null,
   "id": "eb822e5b-2a25-4f9c-ab98-3692bab25563",
   "metadata": {},
   "outputs": [],
   "source": [
    "word = \"Artificial Intelligence\"\n",
    "for char in word:\n",
    "    print(char)"
   ]
  },
  {
   "cell_type": "code",
   "execution_count": null,
   "id": "9704cb2d-24c6-4728-9af1-35729a4bab61",
   "metadata": {},
   "outputs": [],
   "source": [
    "Name=input(\"Your Name:\")\n",
    "Age=int(input(\"Your Age:\"))\n",
    "Profession=input(\"Your Profession:\")"
   ]
  },
  {
   "cell_type": "code",
   "execution_count": null,
   "id": "8c7ef147-cf19-488d-9c36-d87d7cd0039e",
   "metadata": {},
   "outputs": [],
   "source": [
    "print(\"Your Name: \",Name)\n",
    "print(\"Your Age: \",Age)\n",
    "print(\"Your Profession:\",Profession)"
   ]
  },
  {
   "cell_type": "code",
   "execution_count": null,
   "id": "248566dd-99ce-4d83-95cd-4c0f570e9462",
   "metadata": {},
   "outputs": [],
   "source": [
    "tuple = (1, 'Welcome', 2, 'Hope')\n",
    "print(tuple)"
   ]
  },
  {
   "cell_type": "code",
   "execution_count": null,
   "id": "d4938414-3511-4b84-828c-70960e1e81a9",
   "metadata": {},
   "outputs": [],
   "source": [
    "list = [(0, 1, 2, 3,('python', 'HOPE'))]\n",
    "print(tuple(list))"
   ]
  },
  {
   "cell_type": "code",
   "execution_count": null,
   "id": "23e28dc7-32cc-4ad6-81e9-c28de5b2657a",
   "metadata": {},
   "outputs": [],
   "source": [
    "# print Odd Numbers in the list\n",
    "odd = (20,10,16,19,25,1,276,188)\n",
    "for x in odd:\n",
    "    if x % 2 == 1:\n",
    "        print(x,\"is odd\")"
   ]
  },
  {
   "cell_type": "code",
   "execution_count": null,
   "id": "4eec7e5f-a930-4f5f-b79b-871310beac9d",
   "metadata": {},
   "outputs": [],
   "source": [
    "# print Even numbers in the list\n",
    "even = (20,10,16,19,25,1,276,188)\n",
    "for x in even:\n",
    "    if x % 2 == 0:\n",
    "        print(x,\"is even\")"
   ]
  },
  {
   "cell_type": "code",
   "execution_count": 19,
   "id": "cadabbda-fec2-475c-8e7f-3ac738b8caee",
   "metadata": {},
   "outputs": [
    {
     "name": "stdin",
     "output_type": "stream",
     "text": [
      "Your Name Raj\n",
      "Your age 31\n",
      "Your profesion Doctor\n"
     ]
    }
   ],
   "source": [
    "name = input (\"Your Name\")\n",
    "age = int(input (\"Your age\"))\n",
    "profession = input (\"Your profesion\")"
   ]
  },
  {
   "cell_type": "code",
   "execution_count": 21,
   "id": "ad447be4-37d7-4fab-ac1a-3c5acf5459e9",
   "metadata": {},
   "outputs": [
    {
     "name": "stdout",
     "output_type": "stream",
     "text": [
      "Raj\n",
      "31\n",
      "Doctor\n"
     ]
    }
   ],
   "source": [
    "lists=[name, age, profession]\n",
    "for Bio in lists:\n",
    "    print(Bio)"
   ]
  },
  {
   "cell_type": "code",
   "execution_count": 17,
   "id": "3119608f-c675-4210-87c1-a70a3baabed8",
   "metadata": {},
   "outputs": [
    {
     "name": "stdout",
     "output_type": "stream",
     "text": [
      "Your name:  Raj\n",
      "Your age:  16\n",
      "Your Profession:  Doctor\n"
     ]
    }
   ],
   "source": [
    "lists={\"Your name\": \"Raj\",\"Your age\": 16,\"Profession\": \"Doctor\"} , \n",
    "for i in lists:\n",
    "    print(\"Your name: \", i[\"Your name\"])\n",
    "    print(\"Your age: \", i[\"Your age\"])\n",
    "    print(\"Your Profession: \", i[\"Profession\"])\n",
    "    "
   ]
  },
  {
   "cell_type": "code",
   "execution_count": null,
   "id": "325a55e8-cf7f-498e-b1f5-066df1172a27",
   "metadata": {},
   "outputs": [],
   "source": []
  }
 ],
 "metadata": {
  "kernelspec": {
   "display_name": "Python [conda env:base] *",
   "language": "python",
   "name": "conda-base-py"
  },
  "language_info": {
   "codemirror_mode": {
    "name": "ipython",
    "version": 3
   },
   "file_extension": ".py",
   "mimetype": "text/x-python",
   "name": "python",
   "nbconvert_exporter": "python",
   "pygments_lexer": "ipython3",
   "version": "3.12.7"
  }
 },
 "nbformat": 4,
 "nbformat_minor": 5
}
