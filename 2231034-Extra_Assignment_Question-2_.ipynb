{
 "cells": [
  {
   "cell_type": "code",
   "execution_count": null,
   "id": "39959a45-f8c9-4101-818c-c64a3258718b",
   "metadata": {},
   "outputs": [],
   "source": [
    "# print 0 to 20 by using range\n",
    "num=0,20\n",
    "for num in range(0,20):\n",
    "    print(num)"
   ]
  },
  {
   "cell_type": "code",
   "execution_count": null,
   "id": "fece9057-6efa-49bc-8cc0-b81a407bb50d",
   "metadata": {},
   "outputs": [],
   "source": [
    "# print 0 to 20 by using range\n",
    "num=10,20\n",
    "for num in range(10,20):\n",
    "    print(num)"
   ]
  },
  {
   "cell_type": "code",
   "execution_count": 9,
   "id": "3ed1d90d-e1df-4cec-a7e9-633363490c98",
   "metadata": {},
   "outputs": [
    {
     "name": "stdout",
     "output_type": "stream",
     "text": [
      "Number of item in the List2: 7\n"
     ]
    }
   ],
   "source": [
    "# Print number of items in the list by using 'len'\n",
    "list2 = (10, 20, 14, 55, 43, 87, 76)\n",
    "length = len(list2)\n",
    "print(\"Number of item in the List2:\",length)"
   ]
  },
  {
   "cell_type": "code",
   "execution_count": 13,
   "id": "eb822e5b-2a25-4f9c-ab98-3692bab25563",
   "metadata": {},
   "outputs": [
    {
     "name": "stdout",
     "output_type": "stream",
     "text": [
      "A\n",
      "r\n",
      "t\n",
      "i\n",
      "f\n",
      "i\n",
      "c\n",
      "i\n",
      "a\n",
      "l\n",
      " \n",
      "I\n",
      "n\n",
      "t\n",
      "e\n",
      "l\n",
      "l\n",
      "i\n",
      "g\n",
      "e\n",
      "n\n",
      "c\n",
      "e\n"
     ]
    }
   ],
   "source": [
    "word = \"Artificial Intelligence\"\n",
    "for char in word:\n",
    "    print(char)"
   ]
  },
  {
   "cell_type": "code",
   "execution_count": 15,
   "id": "9704cb2d-24c6-4728-9af1-35729a4bab61",
   "metadata": {},
   "outputs": [
    {
     "name": "stdin",
     "output_type": "stream",
     "text": [
      "Your Name: Karthik\n",
      "Your Age: 26\n",
      "Your Profession: Engineer\n"
     ]
    }
   ],
   "source": [
    "Name=input(\"Your Name:\")\n",
    "Age=int(input(\"Your Age:\"))\n",
    "Profession=input(\"Your Profession:\")"
   ]
  },
  {
   "cell_type": "code",
   "execution_count": 17,
   "id": "8c7ef147-cf19-488d-9c36-d87d7cd0039e",
   "metadata": {},
   "outputs": [
    {
     "name": "stdout",
     "output_type": "stream",
     "text": [
      "Your Name:  Karthik\n",
      "Your Age:  26\n",
      "Your Profession: Engineer\n"
     ]
    }
   ],
   "source": [
    "print(\"Your Name: \",Name)\n",
    "print(\"Your Age: \",Age)\n",
    "print(\"Your Profession:\",Profession)"
   ]
  },
  {
   "cell_type": "code",
   "execution_count": 41,
   "id": "248566dd-99ce-4d83-95cd-4c0f570e9462",
   "metadata": {},
   "outputs": [
    {
     "name": "stdout",
     "output_type": "stream",
     "text": [
      "(1, 'Welcome', 2, 'Hope')\n"
     ]
    }
   ],
   "source": [
    "tuple = (1, 'Welcome', 2, 'Hope')\n",
    "print(tuple)"
   ]
  },
  {
   "cell_type": "code",
   "execution_count": 39,
   "id": "d4938414-3511-4b84-828c-70960e1e81a9",
   "metadata": {},
   "outputs": [
    {
     "name": "stdout",
     "output_type": "stream",
     "text": [
      "((0, 1, 2, 3, ('python', 'HOPE')),)\n"
     ]
    }
   ],
   "source": [
    "list = [(0, 1, 2, 3,('python', 'HOPE'))]\n",
    "print(tuple(list))"
   ]
  },
  {
   "cell_type": "code",
   "execution_count": 33,
   "id": "23e28dc7-32cc-4ad6-81e9-c28de5b2657a",
   "metadata": {},
   "outputs": [
    {
     "name": "stdout",
     "output_type": "stream",
     "text": [
      "19 is odd\n",
      "25 is odd\n",
      "1 is odd\n"
     ]
    }
   ],
   "source": [
    "# print Odd Numbers in the list\n",
    "odd = (20,10,16,19,25,1,276,188)\n",
    "for x in odd:\n",
    "    if x % 2 == 1:\n",
    "        print(x,\"is odd\")"
   ]
  },
  {
   "cell_type": "code",
   "execution_count": 37,
   "id": "4eec7e5f-a930-4f5f-b79b-871310beac9d",
   "metadata": {},
   "outputs": [
    {
     "name": "stdout",
     "output_type": "stream",
     "text": [
      "20 is even\n",
      "10 is even\n",
      "16 is even\n",
      "276 is even\n",
      "188 is even\n"
     ]
    }
   ],
   "source": [
    "# print Even numbers in the list\n",
    "even = (20,10,16,19,25,1,276,188)\n",
    "for x in even:\n",
    "    if x % 2 == 0:\n",
    "        print(x,\"is even\")"
   ]
  },
  {
   "cell_type": "code",
   "execution_count": null,
   "id": "cadabbda-fec2-475c-8e7f-3ac738b8caee",
   "metadata": {},
   "outputs": [],
   "source": []
  }
 ],
 "metadata": {
  "kernelspec": {
   "display_name": "Python [conda env:base] *",
   "language": "python",
   "name": "conda-base-py"
  },
  "language_info": {
   "codemirror_mode": {
    "name": "ipython",
    "version": 3
   },
   "file_extension": ".py",
   "mimetype": "text/x-python",
   "name": "python",
   "nbconvert_exporter": "python",
   "pygments_lexer": "ipython3",
   "version": "3.12.7"
  }
 },
 "nbformat": 4,
 "nbformat_minor": 5
}
