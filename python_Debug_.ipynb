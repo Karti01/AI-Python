{
  "cells": [
    {
      "cell_type": "markdown",
      "metadata": {
        "id": "view-in-github",
        "colab_type": "text"
      },
      "source": [
        "<a href=\"https://colab.research.google.com/github/Karti01/AI-Python/blob/main/python_Debug_.ipynb\" target=\"_parent\"><img src=\"https://colab.research.google.com/assets/colab-badge.svg\" alt=\"Open In Colab\"/></a>"
      ]
    },
    {
      "cell_type": "code",
      "execution_count": null,
      "id": "8e02775a",
      "metadata": {
        "colab": {
          "base_uri": "https://localhost:8080/"
        },
        "id": "8e02775a",
        "outputId": "aad691ef-fc29-472c-bafa-6f929c61d4f9"
      },
      "outputs": [
        {
          "output_type": "stream",
          "name": "stdout",
          "text": [
            "0\n",
            "1\n",
            "2\n",
            "3\n",
            "4\n"
          ]
        }
      ],
      "source": [
        "#1.Find the error in the following Python code:\n",
        "\n",
        "for i in range(5):\n",
        "    print(i)\n"
      ]
    },
    {
      "cell_type": "code",
      "execution_count": null,
      "id": "df3cee51",
      "metadata": {
        "colab": {
          "base_uri": "https://localhost:8080/"
        },
        "id": "df3cee51",
        "outputId": "28278bb1-5e90-4085-e177-139e6aadc058"
      },
      "outputs": [
        {
          "output_type": "stream",
          "name": "stdout",
          "text": [
            "15\n"
          ]
        }
      ],
      "source": [
        "#2.What will be the output of this code?\n",
        "\n",
        "a = 10\n",
        "b = 5\n",
        "print(a + b)\n"
      ]
    },
    {
      "cell_type": "code",
      "execution_count": null,
      "id": "15c2e7b2",
      "metadata": {
        "id": "15c2e7b2"
      },
      "outputs": [],
      "source": [
        "#3.What is the issue in this Python snippet?\n",
        "\n",
        "def add_numbers(a, b):\n",
        "    return a + b\n"
      ]
    },
    {
      "cell_type": "code",
      "execution_count": null,
      "id": "2f8e5efd",
      "metadata": {
        "colab": {
          "base_uri": "https://localhost:8080/"
        },
        "id": "2f8e5efd",
        "outputId": "7f220af1-ab33-45f0-aef2-32730568a071"
      },
      "outputs": [
        {
          "output_type": "stream",
          "name": "stdout",
          "text": [
            "4\n"
          ]
        }
      ],
      "source": [
        "#4.Identify the bug in the following Python code:\n",
        "\n",
        "numbers = [1, 2, 3, 4]\n",
        "print(numbers[3])"
      ]
    },
    {
      "cell_type": "code",
      "execution_count": null,
      "id": "bc0080c1",
      "metadata": {
        "colab": {
          "base_uri": "https://localhost:8080/"
        },
        "id": "bc0080c1",
        "outputId": "8768c09d-87a3-480e-fc17-54dc1c14725d"
      },
      "outputs": [
        {
          "output_type": "stream",
          "name": "stdout",
          "text": [
            "Hello, World!\n"
          ]
        }
      ],
      "source": [
        "#5.Find the error in the following Python code:\n",
        "print (\"Hello, World!\")"
      ]
    },
    {
      "cell_type": "code",
      "execution_count": null,
      "id": "5b449ecb",
      "metadata": {
        "colab": {
          "base_uri": "https://localhost:8080/"
        },
        "id": "5b449ecb",
        "outputId": "4445abaf-494b-481b-a70b-20e3bed53258"
      },
      "outputs": [
        {
          "output_type": "stream",
          "name": "stdout",
          "text": [
            "5.0\n"
          ]
        }
      ],
      "source": [
        "#6.Find the error in the following Python code:\n",
        "x = 5 / 1\n",
        "print(x)"
      ]
    },
    {
      "cell_type": "code",
      "execution_count": null,
      "id": "79260565",
      "metadata": {
        "colab": {
          "base_uri": "https://localhost:8080/"
        },
        "id": "79260565",
        "outputId": "5e2ce533-8f06-4e05-e0b0-7631e07b57ac"
      },
      "outputs": [
        {
          "output_type": "stream",
          "name": "stdout",
          "text": [
            "Name: Alice, Age: 25\n"
          ]
        }
      ],
      "source": [
        "#7.Find the error in the following Python code:\n",
        "name = \"Alice\"\n",
        "age = 25\n",
        "print(\"Name: \" + name + \", Age: \" +str(age))\n"
      ]
    },
    {
      "cell_type": "code",
      "execution_count": 81,
      "id": "3e4b6f3b",
      "metadata": {
        "id": "3e4b6f3b",
        "colab": {
          "base_uri": "https://localhost:8080/"
        },
        "outputId": "15684df5-3e05-4b77-f09f-9c12ec0838e3"
      },
      "outputs": [
        {
          "output_type": "stream",
          "name": "stdout",
          "text": [
            "-1\n",
            "0\n",
            "1\n",
            "2\n",
            "3\n",
            "4\n",
            "5\n",
            "6\n",
            "7\n",
            "8\n",
            "9\n"
          ]
        }
      ],
      "source": [
        "#8.Find the error\n",
        "for i in range(-1, 10):\n",
        "    print(i)"
      ]
    },
    {
      "cell_type": "code",
      "execution_count": null,
      "id": "95976c4d",
      "metadata": {
        "colab": {
          "base_uri": "https://localhost:8080/"
        },
        "id": "95976c4d",
        "outputId": "95f9336c-ae78-4898-999f-ae6c07fa8938"
      },
      "outputs": [
        {
          "output_type": "stream",
          "name": "stdout",
          "text": [
            "x is not 5\n"
          ]
        }
      ],
      "source": [
        "#9. Find the error in the following Python code:\n",
        "x = 10\n",
        "if(x==5):\n",
        "  print(\"x is 5\")\n",
        "else:\n",
        "  print(\"x is not 5\")\n",
        "\n",
        "\n"
      ]
    },
    {
      "cell_type": "code",
      "execution_count": 71,
      "id": "317eca50",
      "metadata": {
        "id": "317eca50"
      },
      "outputs": [],
      "source": [
        "#10. Identify the error in the following function definition:\n",
        "\n",
        "def greet(name):\n",
        "    print(\"Hello\", greet)\n"
      ]
    },
    {
      "cell_type": "code",
      "source": [],
      "metadata": {
        "id": "ykEiNKCie8X7"
      },
      "id": "ykEiNKCie8X7",
      "execution_count": 55,
      "outputs": []
    }
  ],
  "metadata": {
    "kernelspec": {
      "display_name": "Python 3 (ipykernel)",
      "language": "python",
      "name": "python3"
    },
    "language_info": {
      "codemirror_mode": {
        "name": "ipython",
        "version": 3
      },
      "file_extension": ".py",
      "mimetype": "text/x-python",
      "name": "python",
      "nbconvert_exporter": "python",
      "pygments_lexer": "ipython3",
      "version": "3.7.6"
    },
    "colab": {
      "provenance": [],
      "include_colab_link": true
    }
  },
  "nbformat": 4,
  "nbformat_minor": 5
}