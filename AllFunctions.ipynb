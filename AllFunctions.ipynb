{
 "cells": [
  {
   "cell_type": "code",
   "execution_count": 3,
   "id": "62ab7d5c-cf07-4f7f-ad4a-524b6f40399e",
   "metadata": {},
   "outputs": [],
   "source": [
    "from AllFunctions import AllFunctions"
   ]
  },
  {
   "cell_type": "code",
   "execution_count": 5,
   "id": "90a87f0a-9977-495b-9569-882b1fd25602",
   "metadata": {},
   "outputs": [
    {
     "name": "stdout",
     "output_type": "stream",
     "text": [
      "Sub-fields in AI are:\n",
      "Machine Learning\n",
      "Neural Networks\n",
      "Vision\n",
      "Robotics\n",
      "Speech Processing\n",
      "Natural Language Processing\n"
     ]
    }
   ],
   "source": [
    "AllFunctions.Subfields()"
   ]
  },
  {
   "cell_type": "code",
   "execution_count": 7,
   "id": "41b916de-ef66-4fd7-ba6e-251202ab4c97",
   "metadata": {},
   "outputs": [
    {
     "name": "stdin",
     "output_type": "stream",
     "text": [
      "Enter the number 6\n"
     ]
    },
    {
     "name": "stdout",
     "output_type": "stream",
     "text": [
      "6 is an Even number\n"
     ]
    }
   ],
   "source": [
    "AllFunctions.oddeven()"
   ]
  },
  {
   "cell_type": "code",
   "execution_count": 9,
   "id": "7d3ec4fb-ea9e-4964-8bfd-33672aac2ab2",
   "metadata": {},
   "outputs": [
    {
     "name": "stdin",
     "output_type": "stream",
     "text": [
      "Your Gender: Female\n",
      "Your Age: 19\n"
     ]
    },
    {
     "name": "stdout",
     "output_type": "stream",
     "text": [
      "ELIGIBLE\n"
     ]
    }
   ],
   "source": [
    "AllFunctions.eligible()"
   ]
  },
  {
   "cell_type": "code",
   "execution_count": 11,
   "id": "7900fb80-b867-4cda-940f-133d2110dbe6",
   "metadata": {},
   "outputs": [
    {
     "name": "stdin",
     "output_type": "stream",
     "text": [
      "Subject1=  86\n",
      "Subject2=  90\n",
      "Subject3=  85\n",
      "Subject4=  95\n",
      "Subject5=  80\n"
     ]
    },
    {
     "name": "stdout",
     "output_type": "stream",
     "text": [
      "Total :  436\n",
      "Percentage :  87.2\n"
     ]
    }
   ],
   "source": [
    "AllFunctions.percentage()"
   ]
  },
  {
   "cell_type": "code",
   "execution_count": 13,
   "id": "8e57b674-9157-427f-95e7-466377d4f5d7",
   "metadata": {},
   "outputs": [
    {
     "name": "stdin",
     "output_type": "stream",
     "text": [
      "Height: 54\n",
      "Breadth: 44\n"
     ]
    },
    {
     "name": "stdout",
     "output_type": "stream",
     "text": [
      "Area formula: (Height*Breadth)/2\n",
      "Area of Triangle:  1188.0\n"
     ]
    },
    {
     "name": "stdin",
     "output_type": "stream",
     "text": [
      "Height1: 6\n",
      "Height2: 5\n",
      "Breadth: 6\n"
     ]
    },
    {
     "name": "stdout",
     "output_type": "stream",
     "text": [
      "Perimeter formula: Height1+Height2+Breadth\n",
      "Perimeter of Triangle:  17\n"
     ]
    }
   ],
   "source": [
    "AllFunctions.triangle()"
   ]
  },
  {
   "cell_type": "code",
   "execution_count": null,
   "id": "baf34744-2993-4586-8c1b-691e066bc1ae",
   "metadata": {},
   "outputs": [],
   "source": []
  }
 ],
 "metadata": {
  "kernelspec": {
   "display_name": "Python [conda env:base] *",
   "language": "python",
   "name": "conda-base-py"
  },
  "language_info": {
   "codemirror_mode": {
    "name": "ipython",
    "version": 3
   },
   "file_extension": ".py",
   "mimetype": "text/x-python",
   "name": "python",
   "nbconvert_exporter": "python",
   "pygments_lexer": "ipython3",
   "version": "3.12.7"
  }
 },
 "nbformat": 4,
 "nbformat_minor": 5
}
