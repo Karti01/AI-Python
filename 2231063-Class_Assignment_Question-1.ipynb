{
 "cells": [
  {
   "cell_type": "code",
   "execution_count": 7,
   "id": "4da30667-15a3-4523-8def-9de13406a81d",
   "metadata": {},
   "outputs": [],
   "source": [
    "class SubfieldsInAI:\n",
    "    def Subfields():\n",
    "        print(\"Sub-fields in AI are:\")\n",
    "        list=[\"Machine Learning\", \"Neural Networks\", \"Vision\", \"Robotics\", \"Speech Processing\", \"Natural Language Processing\"]\n",
    "        for temp in list:\n",
    "            print(temp)"
   ]
  },
  {
   "cell_type": "code",
   "execution_count": 9,
   "id": "3d42221b-19b2-4dec-ba72-ad9b5efdd9c0",
   "metadata": {},
   "outputs": [
    {
     "name": "stdout",
     "output_type": "stream",
     "text": [
      "Sub-fields in AI are:\n",
      "Machine Learning\n",
      "Neural Networks\n",
      "Vision\n",
      "Robotics\n",
      "Speech Processing\n",
      "Natural Language Processing\n"
     ]
    }
   ],
   "source": [
    "SubfieldsInAI.Subfields()"
   ]
  },
  {
   "cell_type": "code",
   "execution_count": 19,
   "id": "1661767b-9362-482a-b686-46cbbd25da9f",
   "metadata": {},
   "outputs": [],
   "source": [
    "class OddEven:\n",
    "    def oddeven():\n",
    "        num=int(input(\"Enter the number\"))\n",
    "        if((num%2)==0):\n",
    "            print(num,\"is an Even number\")\n",
    "        else:\n",
    "            print(num, \"a odd number\")"
   ]
  },
  {
   "cell_type": "code",
   "execution_count": 21,
   "id": "f6d75f36-fd05-400f-a558-1034c2a4bb08",
   "metadata": {},
   "outputs": [
    {
     "name": "stdin",
     "output_type": "stream",
     "text": [
      "Enter the number 5\n"
     ]
    },
    {
     "name": "stdout",
     "output_type": "stream",
     "text": [
      "5 a odd number\n"
     ]
    }
   ],
   "source": [
    "OddEven.oddeven()"
   ]
  },
  {
   "cell_type": "code",
   "execution_count": 23,
   "id": "be8451ad-20ee-4a52-9989-7249adb22772",
   "metadata": {},
   "outputs": [],
   "source": [
    "class ElegiblityForMarriage:\n",
    "    def eligible():\n",
    "        gender=input(\"Your Gender:\")\n",
    "        age=int(input(\"Your Age:\"))\n",
    "        if(gender=='Male'):\n",
    "            if(age>=21):\n",
    "                print('ELIGIBLE')\n",
    "            else:\n",
    "                print('NOT ELIGIBLE')\n",
    "        if(gender=='Female'):\n",
    "            if(age>=18):\n",
    "                print('ELIGIBLE')\n",
    "            else:\n",
    "                print('NOT ELIGIBLE')"
   ]
  },
  {
   "cell_type": "code",
   "execution_count": 27,
   "id": "7ccc9478-41d9-40a6-b126-7001c214eefb",
   "metadata": {},
   "outputs": [
    {
     "name": "stdin",
     "output_type": "stream",
     "text": [
      "Your Gender: Male\n",
      "Your Age: 25\n"
     ]
    },
    {
     "name": "stdout",
     "output_type": "stream",
     "text": [
      "ELIGIBLE\n"
     ]
    }
   ],
   "source": [
    "ElegiblityForMarriage.eligible()"
   ]
  },
  {
   "cell_type": "code",
   "execution_count": 31,
   "id": "e92c92e9-6ab8-4a2b-9619-c8ea60ee683e",
   "metadata": {},
   "outputs": [],
   "source": [
    "class FindPercent:\n",
    "    def percentage():\n",
    "        mark1=int(input(\"Subject1= \"))\n",
    "        mark2=int(input(\"Subject2= \"))\n",
    "        mark3=int(input(\"Subject3= \"))\n",
    "        mark4=int(input(\"Subject4= \"))\n",
    "        mark5=int(input(\"Subject5= \"))\n",
    "        Total = mark1+mark2+mark3+mark4+mark5\n",
    "        print(\"Total : \",mark1+mark2+mark3+mark4+mark5)\n",
    "        Percent = (Total / 500) * 100\n",
    "        print(\"Percentage : \",Percent)"
   ]
  },
  {
   "cell_type": "code",
   "execution_count": 33,
   "id": "70b2ad5d-2db9-47c9-9f0d-565d8e75008b",
   "metadata": {},
   "outputs": [
    {
     "name": "stdin",
     "output_type": "stream",
     "text": [
      "Subject1=  54\n",
      "Subject2=  54\n",
      "Subject3=  35\n",
      "Subject4=  65\n",
      "Subject5=  75\n"
     ]
    },
    {
     "name": "stdout",
     "output_type": "stream",
     "text": [
      "Total :  283\n",
      "Percentage :  56.599999999999994\n"
     ]
    }
   ],
   "source": [
    "FindPercent.percentage()"
   ]
  },
  {
   "cell_type": "code",
   "execution_count": 43,
   "id": "4d022689-b98c-4d00-8a87-0568c74a5f26",
   "metadata": {},
   "outputs": [],
   "source": [
    "class Triangle:\n",
    "    def triangle():\n",
    "        H=int(input(\"Height:\"))\n",
    "        B=int(input(\"Breadth:\"))\n",
    "        print(\"Area formula: (Height*Breadth)/2\")\n",
    "        print(\"Area of Triangle: \",(H*B)/2)\n",
    "        H1=int(input(\"Height1:\"))\n",
    "        H2=int(input(\"Height2:\"))\n",
    "        B=int(input(\"Breadth:\"))\n",
    "        print(\"Perimeter formula: Height1+Height2+Breadth\")\n",
    "        print(\"Perimeter of Triangle: \",H1+H2+B)"
   ]
  },
  {
   "cell_type": "code",
   "execution_count": 47,
   "id": "b663ed3d-fec0-4d16-8433-c09ab35f46ac",
   "metadata": {},
   "outputs": [
    {
     "name": "stdin",
     "output_type": "stream",
     "text": [
      "Height: 32\n",
      "Breadth: 34\n"
     ]
    },
    {
     "name": "stdout",
     "output_type": "stream",
     "text": [
      "Area formula: (Height*Breadth)/2\n",
      "Area of Triangle:  544.0\n"
     ]
    },
    {
     "name": "stdin",
     "output_type": "stream",
     "text": [
      "Height1: 2\n",
      "Height2: 2\n",
      "Breadth: 4\n"
     ]
    },
    {
     "name": "stdout",
     "output_type": "stream",
     "text": [
      "Perimeter formula: Height1+Height2+Breadth\n",
      "Perimeter of Triangle:  8\n"
     ]
    }
   ],
   "source": [
    "Triangle.triangle()"
   ]
  },
  {
   "cell_type": "code",
   "execution_count": null,
   "id": "c55fd634-7a2e-40d0-9202-597c6bad9a4e",
   "metadata": {},
   "outputs": [],
   "source": []
  }
 ],
 "metadata": {
  "kernelspec": {
   "display_name": "Python [conda env:base] *",
   "language": "python",
   "name": "conda-base-py"
  },
  "language_info": {
   "codemirror_mode": {
    "name": "ipython",
    "version": 3
   },
   "file_extension": ".py",
   "mimetype": "text/x-python",
   "name": "python",
   "nbconvert_exporter": "python",
   "pygments_lexer": "ipython3",
   "version": "3.12.7"
  }
 },
 "nbformat": 4,
 "nbformat_minor": 5
}
