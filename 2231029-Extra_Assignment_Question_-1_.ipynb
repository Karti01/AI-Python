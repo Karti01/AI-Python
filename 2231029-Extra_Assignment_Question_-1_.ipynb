{
 "cells": [
  {
   "cell_type": "code",
   "execution_count": null,
   "id": "8999936a-af75-4672-9dfe-dd4c8b60b2b3",
   "metadata": {},
   "outputs": [],
   "source": [
    "print(\"Hope AI\")"
   ]
  },
  {
   "cell_type": "code",
   "execution_count": 13,
   "id": "d595f72a-7cd0-4299-a8f7-7f3c90ab01ae",
   "metadata": {},
   "outputs": [
    {
     "name": "stdin",
     "output_type": "stream",
     "text": [
      "Enter your name: Karthik\n",
      "Enter your age: 15\n",
      "Enter your School name: ST. Paul's\n",
      "Enter your Class:  8\n"
     ]
    }
   ],
   "source": [
    "Name=input(\"Enter your name:\")\n",
    "Age=int(input(\"Enter your age:\"))\n",
    "Schoolname=input(\"Enter your School name:\")\n",
    "Class=int(input(\"Enter your Class:\"))"
   ]
  },
  {
   "cell_type": "code",
   "execution_count": 19,
   "id": "69b0f876-c667-4c9d-a438-6b0de2e37c5c",
   "metadata": {},
   "outputs": [
    {
     "name": "stdout",
     "output_type": "stream",
     "text": [
      "Enter your name:  Karthik\n",
      "Enter your age:  15\n",
      "Enter your School name: ST. Paul's\n",
      "Enter your Class:  8\n"
     ]
    }
   ],
   "source": [
    "print(\"Enter your name: \",Name)\n",
    "print(\"Enter your age: \",Age)\n",
    "print(\"Enter your School name:\",Schoolname)\n",
    "print(\"Enter your Class: \",Class)"
   ]
  },
  {
   "cell_type": "code",
   "execution_count": 33,
   "id": "e3c96da2-613b-413f-92ec-257cd7816aeb",
   "metadata": {},
   "outputs": [
    {
     "name": "stdin",
     "output_type": "stream",
     "text": [
      "a= 43\n",
      "b= 34\n"
     ]
    }
   ],
   "source": [
    "#Addition\n",
    "a=int(input(\"a=\"))\n",
    "b=int(input(\"b=\"))\n",
    "add=a+b"
   ]
  },
  {
   "cell_type": "code",
   "execution_count": 35,
   "id": "0ec74bcc-fa6c-4dd7-ac3d-ea68f1f6d49a",
   "metadata": {},
   "outputs": [
    {
     "name": "stdout",
     "output_type": "stream",
     "text": [
      "add= 77\n"
     ]
    }
   ],
   "source": [
    "print(\"add=\",add)"
   ]
  },
  {
   "cell_type": "code",
   "execution_count": 70,
   "id": "5c18116a-1499-455b-a92d-a3f1a1b9790b",
   "metadata": {},
   "outputs": [
    {
     "name": "stdin",
     "output_type": "stream",
     "text": [
      "a= 43\n",
      "b= 34\n"
     ]
    }
   ],
   "source": [
    "#subtraction\n",
    "a=int(input(\"a=\"))\n",
    "b=int(input(\"b=\"))\n",
    "Sub=a-b"
   ]
  },
  {
   "cell_type": "code",
   "execution_count": 72,
   "id": "6baa0877-1cb6-4161-94cc-33a499347d9c",
   "metadata": {},
   "outputs": [
    {
     "name": "stdout",
     "output_type": "stream",
     "text": [
      "a= 43\n",
      "b= 34\n",
      "Sub= 9\n"
     ]
    }
   ],
   "source": [
    "print(\"a=\",a)\n",
    "print(\"b=\",b)\n",
    "print(\"Sub=\",Sub)"
   ]
  },
  {
   "cell_type": "code",
   "execution_count": 64,
   "id": "637e8bb5-d4d1-4ca5-8a00-a5f59eb4a388",
   "metadata": {},
   "outputs": [
    {
     "name": "stdin",
     "output_type": "stream",
     "text": [
      "a= 63\n",
      "b= 97\n"
     ]
    }
   ],
   "source": [
    "#Multiplication\n",
    "a=int(input(\"a=\"))\n",
    "b=int(input(\"b=\"))\n",
    "Mul=a*b"
   ]
  },
  {
   "cell_type": "code",
   "execution_count": 66,
   "id": "8cbf9b6c-0036-4264-99b4-2329d703eac9",
   "metadata": {},
   "outputs": [
    {
     "name": "stdout",
     "output_type": "stream",
     "text": [
      "a= 63\n",
      "b= 97\n",
      "Mul= 6111\n"
     ]
    }
   ],
   "source": [
    "print(\"a=\",a)\n",
    "print(\"b=\",b)\n",
    "print(\"Mul=\",Mul)"
   ]
  },
  {
   "cell_type": "code",
   "execution_count": 53,
   "id": "451daa85-545d-4b88-933e-09a71cec7444",
   "metadata": {},
   "outputs": [
    {
     "name": "stdin",
     "output_type": "stream",
     "text": [
      "a= 76\n",
      "b= 31\n"
     ]
    }
   ],
   "source": [
    "#Division\n",
    "a=(input(\"a=\"))\n",
    "b=(input(\"b=\"))\n",
    "Floatdiv=a/b"
   ]
  },
  {
   "cell_type": "code",
   "execution_count": 60,
   "id": "3cb8353c-0beb-4516-aaf5-4f24a07ce13a",
   "metadata": {},
   "outputs": [
    {
     "name": "stdout",
     "output_type": "stream",
     "text": [
      "a= 76.0\n",
      "b= 31.0\n",
      "Float Div= 2.4516129032258065\n"
     ]
    }
   ],
   "source": [
    "print(\"a=\",a)\n",
    "print(\"b=\",b)\n",
    "print(\"Float Div=\",Floatdiv)"
   ]
  },
  {
   "cell_type": "code",
   "execution_count": 88,
   "id": "f97802b5-2b41-4243-a0d3-38d4c39e0800",
   "metadata": {},
   "outputs": [
    {
     "name": "stdin",
     "output_type": "stream",
     "text": [
      "a= 76\n",
      "b= 31\n"
     ]
    }
   ],
   "source": [
    "#Floor division\n",
    "a=int(input(\"a=\"))\n",
    "b=int(input(\"b=\"))\n",
    "Floordiv=a//b"
   ]
  },
  {
   "cell_type": "code",
   "execution_count": 90,
   "id": "f9c33497-ae69-4228-85f3-2c1524744da9",
   "metadata": {},
   "outputs": [
    {
     "name": "stdout",
     "output_type": "stream",
     "text": [
      "a= 76\n",
      "b= 31\n",
      "Float Div= 2\n"
     ]
    }
   ],
   "source": [
    "print(\"a=\",a)\n",
    "print(\"b=\",b)\n",
    "print(\"Float Div=\",Floordiv)"
   ]
  },
  {
   "cell_type": "code",
   "execution_count": 92,
   "id": "fa5d43e7-cd14-4e42-a9ca-39ce49204b3d",
   "metadata": {},
   "outputs": [
    {
     "name": "stdin",
     "output_type": "stream",
     "text": [
      "a= 76\n",
      "b= 31\n"
     ]
    }
   ],
   "source": [
    "#Modulo\n",
    "a=int(input(\"a=\"))\n",
    "b=int(input(\"b=\"))\n",
    "Modulo=a%b"
   ]
  },
  {
   "cell_type": "code",
   "execution_count": 94,
   "id": "763405d6-45f7-4df1-b897-ce6e86a60486",
   "metadata": {},
   "outputs": [
    {
     "name": "stdout",
     "output_type": "stream",
     "text": [
      "a= 76\n",
      "b= 31\n",
      "Modulo= 14\n"
     ]
    }
   ],
   "source": [
    "print(\"a=\",a)\n",
    "print(\"b=\",b)\n",
    "print(\"Modulo=\",Modulo)"
   ]
  },
  {
   "cell_type": "code",
   "execution_count": 98,
   "id": "8ac6b626-8a16-44b5-a0fd-19054d87e8fe",
   "metadata": {},
   "outputs": [
    {
     "name": "stdin",
     "output_type": "stream",
     "text": [
      "a= 4\n",
      "b= 4\n"
     ]
    }
   ],
   "source": [
    "#Power\n",
    "a=int(input(\"a=\"))\n",
    "b=int(input(\"b=\"))\n",
    "Power=a**b"
   ]
  },
  {
   "cell_type": "code",
   "execution_count": 100,
   "id": "1cfd9329-af76-4e9f-95ba-9f419df553bd",
   "metadata": {},
   "outputs": [
    {
     "name": "stdout",
     "output_type": "stream",
     "text": [
      "a= 4\n",
      "b= 4\n",
      "Power= 256\n"
     ]
    }
   ],
   "source": [
    "print(\"a=\",a)\n",
    "print(\"b=\",b)\n",
    "print(\"Power=\",Power)"
   ]
  },
  {
   "cell_type": "code",
   "execution_count": null,
   "id": "d40df9f8-6253-4d7a-b443-61055af658e9",
   "metadata": {},
   "outputs": [],
   "source": []
  }
 ],
 "metadata": {
  "kernelspec": {
   "display_name": "Python [conda env:base] *",
   "language": "python",
   "name": "conda-base-py"
  },
  "language_info": {
   "codemirror_mode": {
    "name": "ipython",
    "version": 3
   },
   "file_extension": ".py",
   "mimetype": "text/x-python",
   "name": "python",
   "nbconvert_exporter": "python",
   "pygments_lexer": "ipython3",
   "version": "3.12.7"
  }
 },
 "nbformat": 4,
 "nbformat_minor": 5
}
